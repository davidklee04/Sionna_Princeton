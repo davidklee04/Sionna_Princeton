{
 "cells": [
  {
   "cell_type": "markdown",
   "id": "4b06e0f6",
   "metadata": {},
   "source": [
    "# Tutorial \\#1: Integrating Geo2SigMap with Sionna RT - Coverage Map\n",
    "\n",
    "This notebook provides an example of using Sionna RT to generate the coverage map for the target area, generated using Geo2SigMap's scene generation framework. This example contains five modules:\n",
    "\n",
    "1. **Load and Preview** the generated scene for the target area;\n",
    "2. **Configure** the transmitters (TXs) and receivers (RXs);\n",
    "3. **Generate** the coverage map (or path gain map);\n",
    "4. **Visualize** the results using Sionna's built-in functions;\n",
    "5. **Plot/Save** the raw coverage map for further processing and analysis.\n",
    "\n",
    "Please make sure that you have properly installed Sionna, e.g., via\n",
    "```console\n",
    "python3 -m pip install sionna\n",
    "```\n",
    "\n",
    "**Note: Starting from Sionna v1.0, the `CoverageMap` class has been replaced with the `RadioMap` class.**"
   ]
  },
  {
   "cell_type": "code",
   "execution_count": 1,
   "id": "import-libraries",
   "metadata": {},
   "outputs": [],
   "source": [
    "# Core imports\n",
    "import numpy as np\n",
    "import mitsuba as mi\n",
    "import matplotlib as mpl\n",
    "import matplotlib.pyplot as plt\n",
    "import sionna\n",
    "from sionna.rt import load_scene, Camera, Transmitter, Receiver, PlanarArray,\\\n",
    "                      PathSolver, RadioMapSolver, load_mesh, watt_to_dbm, transform_mesh,\\\n",
    "                      cpx_abs_square"
   ]
  },
  {
   "cell_type": "markdown",
   "id": "43070b08",
   "metadata": {},
   "source": [
    "## 1. **Load** and **Preview** the generated scene for the target area\n",
    "\n",
    "We assume you have prepared the 3D scene XML file corresponding to the target area generated with our CLI tool `scenegen`, check `README.md` for details. \n",
    "\n",
    "You can use the following controls to preview the rendered 3D scene:\n",
    "* Mouse left: Rotate\n",
    "* Scroll wheel: Zoom\n",
    "* Mouse right: Move"
   ]
  },
  {
   "cell_type": "code",
   "execution_count": 2,
   "id": "load-scene",
   "metadata": {},
   "outputs": [
    {
     "data": {
      "text/html": [
       "<span style=\"font-family: monospace; color: #f55\">2025-06-13 13:44:20 WARN  wrk17 [HDRFilm] Monochrome mode enabled, setting film output pixel format to &apos;luminance&apos; (was rgb).</span>"
      ]
     },
     "metadata": {},
     "output_type": "display_data"
    },
    {
     "data": {
      "application/vnd.jupyter.widget-view+json": {
       "model_id": "f0fd48f76d094cad82719e302cea5cee",
       "version_major": 2,
       "version_minor": 0
      },
      "text/plain": [
       "HBox(children=(Renderer(camera=PerspectiveCamera(aspect=1.31, children=(DirectionalLight(intensity=0.25, posit…"
      ]
     },
     "metadata": {},
     "output_type": "display_data"
    }
   ],
   "source": [
    "# Replace '../scenes/Boston/scene.xml' with the path to your scene file\n",
    "scene = load_scene(\"../scenes/Boston/scene.xml\")\n",
    "\n",
    "# Interactive 3D visualization and view of the scene\n",
    "scene.preview();"
   ]
  },
  {
   "cell_type": "markdown",
   "id": "523b4577",
   "metadata": {},
   "source": [
    "## 2. **Configure** the transmitters and receivers\n",
    "\n",
    "Next, we specify:\n",
    "- The **transmit (TX)** antenna array is a planar array with a single element and isotropic pattern;\n",
    "- The **receive (RX)** antenna array is a planar array with a single element but with a dipole pattern.\n",
    "\n",
    "Then, we create a `Transmitter` object with a specific position and orientation, and add it to the `scene`.\n",
    "\n",
    "**Note: Scene geographical coordinate system**\n",
    "- Coordinate system: The center of the scene is at (0,0,0), the z-axis for the flat ground polygon is 0.\n",
    "- Unit: Meters (m).\n",
    "\n",
    "**Note: Sionna Azimuth/Elevation Format**\n",
    "- Sionna defines the **antenna azimuth** in the range [-π, π) [rad]. The following code converts the commonly used **north-origin, clockwise-degree azimuth** to the format suitable for Sionna. Check the code below for details."
   ]
  },
  {
   "cell_type": "code",
   "execution_count": 3,
   "id": "configure-arrays",
   "metadata": {},
   "outputs": [],
   "source": [
    "# Transmit array (single iso element)\n",
    "scene.tx_array = PlanarArray(\n",
    "    num_rows=1,\n",
    "    num_cols=1,\n",
    "    vertical_spacing=0.5,\n",
    "    horizontal_spacing=0.5,\n",
    "    pattern=\"iso\",        # isotropic pattern\n",
    "    polarization=\"V\"      # vertical polarization\n",
    ")\n",
    "\n",
    "# Receive array (single dipole element)\n",
    "scene.rx_array = PlanarArray(\n",
    "    num_rows=1,\n",
    "    num_cols=1,\n",
    "    vertical_spacing=0.5,\n",
    "    horizontal_spacing=0.5,\n",
    "    pattern=\"dipole\",\n",
    "    polarization=\"cross\"\n",
    ")\n",
    "\n",
    "# Create a single transmitter (tx0)\n",
    "# - Positioned at x=0, y=0, z=100, in the unit of meters\n",
    "# - Orientation toward 210 degree\n",
    "tx0 = Transmitter(\n",
    "    name=\"tx\",\n",
    "    position=[0, 0, 100],\n",
    "    orientation=[-1 * (210 - 90) / 180 * np.pi, 0, 0]\n",
    ")\n",
    "\n",
    "# Add the transmitter instance to the scene\n",
    "scene.add(tx0)\n",
    "\n",
    "# Set the operating frequency in Hz (here, 3.65 GHz corresponds to the CBRS band)\n",
    "scene.frequency = 3.65e9"
   ]
  },
  {
   "cell_type": "markdown",
   "id": "83853592",
   "metadata": {},
   "source": [
    "## 3. **Generate** the coverage map (or path gain map)\n",
    "\n",
    "The `RadioMap` method creates a **grid** of RX locations and performs ray tracing to calculate path gain between the TX and each grid point. In this example, we set:\n",
    "\n",
    "- `max_depth=5` sets the maximum number of reflections/refractions to be 5;\n",
    "- `los=True` enables the LOS paths;\n",
    "- `cell_size=(2., 2.)` for a grid resolution of 2×2 meter, i.e., one pixel corresponds to an area of 2m x 2m;\n",
    "- `size=[512, 512]` specifies that the radio map covers an area of 512m × 512m, and he corresponding radio map \"image\" has a dimension of 256x256.\n",
    "- `samples_per_tx=int(1e8)` specifies the number of samples per source."
   ]
  },
  {
   "cell_type": "code",
   "execution_count": 4,
   "id": "generate-cm",
   "metadata": {},
   "outputs": [],
   "source": [
    "rm_solver = RadioMapSolver()\n",
    "\n",
    "\n",
    "# Create a measurement surface by cloning the terrain\n",
    "# and elevating it by 1.5 meters\n",
    "measurement_surface = scene.objects[\"ground\"].clone(as_mesh=True)\n",
    "transform_mesh(measurement_surface,\n",
    "            translation=[0,0,1.5])\n",
    "\n",
    "rm = rm_solver(scene,\n",
    "    max_depth=5,\n",
    "    los=True,\n",
    "    refraction=False,\n",
    "    cell_size=(2., 2.),\n",
    "    size=[512, 512],          # Size of the radio map in meters. The number of cells in the x and y directions should be [size/cell_size]\n",
    "    # orientation=[0, 0, 0],    # Orientation of the radio map plane\n",
    "    measurement_surface=measurement_surface, # TO BE UDPATED\n",
    "    # center=[0, 0, 1.5],       # Center of the radio map measurement plane\n",
    "    precoding_vec=None,\n",
    "    samples_per_tx=int(1e8)\n",
    ")"
   ]
  },
  {
   "cell_type": "markdown",
   "id": "9911e859",
   "metadata": {},
   "source": [
    "## 4. **Visualize** the results using Sionna's built-in functions\n",
    "\n",
    "Sionna supports overlaying the radio map on top of the target scene. This allows for visual verification of how the path gain results align with the 3D world model. \n"
   ]
  },
  {
   "cell_type": "code",
   "execution_count": 5,
   "id": "preview-cm",
   "metadata": {},
   "outputs": [
    {
     "data": {
      "application/vnd.jupyter.widget-view+json": {
       "model_id": "c2636d29fc514d3c962bebd139ecfb30",
       "version_major": 2,
       "version_minor": 0
      },
      "text/plain": [
       "HBox(children=(Renderer(camera=PerspectiveCamera(aspect=1.31, children=(DirectionalLight(intensity=0.25, posit…"
      ]
     },
     "metadata": {},
     "output_type": "display_data"
    }
   ],
   "source": [
    "scene.preview(radio_map=rm, rm_db_scale=True, rm_metric=\"path_gain\");"
   ]
  },
  {
   "cell_type": "code",
   "execution_count": 6,
   "id": "83efa22c-67fe-4155-9742-c329ef66330d",
   "metadata": {},
   "outputs": [],
   "source": [
    "import numpy as np\n",
    "\n",
    "def average_signal_grid_centered(centers, signal_strengths, grid_shape, cell_resolution):\n",
    "    \"\"\"\n",
    "    Bin signal strengths by 2D grid centered at origin, skipping NaN values.\n",
    "\n",
    "    Args:\n",
    "        centers (np.ndarray): (N, 2) array of (x, y) centers (center-origin coordinates).\n",
    "        signal_strengths (np.ndarray): (N,) signal values.\n",
    "        grid_shape (tuple): (num_rows, num_cols) of output grid.\n",
    "        cell_resolution (float or tuple): Size of cell in x and y, e.g., 1.0 or (x_res, y_res).\n",
    "\n",
    "    Returns:\n",
    "        np.ndarray: (num_rows, num_cols) array of average signal strengths.\n",
    "    \"\"\"\n",
    "    if isinstance(cell_resolution, (float, int)):\n",
    "        cell_resolution = (cell_resolution, cell_resolution)\n",
    "    x_res, y_res = cell_resolution\n",
    "\n",
    "    num_rows, num_cols = grid_shape\n",
    "\n",
    "    Lx = num_cols * x_res\n",
    "    Ly = num_rows * y_res\n",
    "    x_min = -Lx / 2\n",
    "    y_min = -Ly / 2\n",
    "\n",
    "    x_idx = ((centers[:, 0] - x_min) / x_res).astype(int)\n",
    "    y_idx = ((centers[:, 1] - y_min) / y_res).astype(int)\n",
    "\n",
    "    x_idx = np.clip(x_idx, 0, num_cols-1)\n",
    "    y_idx = np.clip(y_idx, 0, num_rows-1)\n",
    "\n",
    "    sum_grid = np.zeros((num_rows, num_cols), dtype=np.float64)\n",
    "    count_grid = np.zeros((num_rows, num_cols), dtype=np.int32)\n",
    "\n",
    "    for xi, yi, sig in zip(x_idx, y_idx, signal_strengths):\n",
    "        if not np.isnan(sig):\n",
    "            sum_grid[yi, xi] += sig\n",
    "            count_grid[yi, xi] += 1\n",
    "\n",
    "    with np.errstate(divide='ignore', invalid='ignore'):\n",
    "        avg_grid = np.divide(sum_grid, count_grid, where=count_grid > 0)\n",
    "        avg_grid[count_grid == 0] = np.nan\n",
    "\n",
    "    return avg_grid\n"
   ]
  },
  {
   "cell_type": "code",
   "execution_count": 7,
   "id": "cm-show",
   "metadata": {},
   "outputs": [
    {
     "ename": "NameError",
     "evalue": "name 'grid_shape' is not defined",
     "output_type": "error",
     "traceback": [
      "\u001b[31m---------------------------------------------------------------------------\u001b[39m",
      "\u001b[31mNameError\u001b[39m                                 Traceback (most recent call last)",
      "\u001b[36mCell\u001b[39m\u001b[36m \u001b[39m\u001b[32mIn[7]\u001b[39m\u001b[32m, line 22\u001b[39m\n\u001b[32m     17\u001b[39m centers = centers[:,\u001b[32m0\u001b[39m:\u001b[32m2\u001b[39m]\n\u001b[32m     18\u001b[39m signal_strengths = rm.path_gain.numpy().squeeze()\n\u001b[32m---> \u001b[39m\u001b[32m22\u001b[39m avg_grid = average_signal_grid_centered( centers, signal_strengths, \u001b[43mgrid_shape\u001b[49m, cell_resolution)\n\u001b[32m     25\u001b[39m plt.imshow(\u001b[32m10\u001b[39m * np.log10(np.flip(avg_grid,\u001b[32m0\u001b[39m)), interpolation=\u001b[33m\"\u001b[39m\u001b[33mnone\u001b[39m\u001b[33m\"\u001b[39m);\n\u001b[32m     26\u001b[39m plt.colorbar()\n",
      "\u001b[31mNameError\u001b[39m: name 'grid_shape' is not defined"
     ]
    }
   ],
   "source": [
    "\n",
    "if isinstance(rm, sionna.rt.MeshRadioMap):\n",
    "    # MeshRadioMap does not support the show() function.\n",
    "\n",
    "    grid_shape = (1000, 1000)  # 100x100 grid\n",
    "    cell_resolution = 1.0  # each cell is 1x1\n",
    "\n",
    "    centers = rm.cell_centers.numpy().T\n",
    "    centers = centers[:,0:2]\n",
    "    signal_strengths = rm.path_gain.numpy().squeeze()\n",
    "    \n",
    "\n",
    "    \n",
    "    avg_grid = average_signal_grid_centered( centers, signal_strengths, grid_shape, cell_resolution)\n",
    "\n",
    "\n",
    "    plt.imshow(10 * np.log10(np.flip(avg_grid,0)), interpolation=\"none\");\n",
    "    plt.colorbar()\n",
    "else:\n",
    "    # PlanarRadioMap\n",
    "    rm.show(metric=\"path_gain\");\n",
    "\n",
    "\n"
   ]
  },
  {
   "cell_type": "markdown",
   "id": "afe289ae",
   "metadata": {},
   "source": [
    "## 5. **Plot** and **Save** the raw radio map\n",
    "\n",
    "Here, we extract the raw `RadioMap` data from Sionna:\n",
    "- Convert it to a `numpy` array;\n",
    "- The radio maps can be stored and visualized in three forms: linear-scale, dB-scale, and a **flipped** version of the dB-scale.\n",
    "\n",
    "**Note**: Sionna's indexing differs from the conventional coordinate origin assumptions, so flipping the map can help align with your expected orientation. The above function `rm.show()` achieves the same purpose as the `Radio Map (dB, flipped)` function. "
   ]
  },
  {
   "cell_type": "code",
   "execution_count": null,
   "id": "cm-plot",
   "metadata": {},
   "outputs": [],
   "source": [
    "# Extract path gain from the coverage map with shape: (1, height, width)\n",
    "if isinstance(rm, sionna.rt.MeshRadioMap):\n",
    "    rm_npy = avg_grid\n",
    "else:\n",
    "    rm_npy = rm.path_gain.numpy()[0, :, :]\n",
    "\n",
    "# Convert path gain to dB scale, with flipping along axis 0\n",
    "rm_npy_db = 10 * np.log10(rm_npy)\n",
    "rm_npy_flipped_db = 10 * np.log10(np.flip(rm_npy, 0))\n",
    "\n",
    "# Create side-by-side plots for radio maps in raw linear-scale, dB-scale, and flipped dB-scale\n",
    "fig, axes = plt.subplots(nrows=1, ncols=3, figsize=(12, 4))\n",
    "\n",
    "# 1) Raw radio map (linear scale)\n",
    "im_raw = axes[0].imshow(rm_npy)\n",
    "axes[0].set_title('Radio Map (linear)')\n",
    "cbar_raw = plt.colorbar(im_raw, ax=axes[0])\n",
    "cbar_raw.set_label('Path Gain')\n",
    "\n",
    "# 2) Coverage map in dB scale\n",
    "im_db = axes[1].imshow(rm_npy_db)\n",
    "axes[1].set_title('Radio Map (dB)')\n",
    "cbar_db = plt.colorbar(im_db, ax=axes[1])\n",
    "cbar_db.set_label('Path Gain (dB)')\n",
    "\n",
    "# 3) Flipped coverage map in dB scale\n",
    "im_db_flip = axes[2].imshow(rm_npy_flipped_db)\n",
    "axes[2].set_title('Radio Map (dB, flipped)')\n",
    "cbar_db_flip = plt.colorbar(im_db_flip, ax=axes[2])\n",
    "cbar_db_flip.set_label('Path Gain (dB)')\n",
    "\n",
    "plt.tight_layout()\n",
    "plt.show()"
   ]
  },
  {
   "cell_type": "markdown",
   "id": "d8740e42-2972-4bc9-a585-cd6af5fb80b5",
   "metadata": {},
   "source": [
    "**Closing Remark**:\n",
    "Please refer to the [Sionna Documentation](https://nvlabs.github.io/sionna/) for more advanced features!"
   ]
  },
  {
   "cell_type": "code",
   "execution_count": null,
   "id": "c5efa4a6-c04b-41c8-b9e2-a2bc716a7962",
   "metadata": {},
   "outputs": [],
   "source": []
  }
 ],
 "metadata": {
  "kernelspec": {
   "display_name": "Python 3 (ipykernel)",
   "language": "python",
   "name": "python3"
  },
  "language_info": {
   "codemirror_mode": {
    "name": "ipython",
    "version": 3
   },
   "file_extension": ".py",
   "mimetype": "text/x-python",
   "name": "python",
   "nbconvert_exporter": "python",
   "pygments_lexer": "ipython3",
   "version": "3.12.11"
  }
 },
 "nbformat": 4,
 "nbformat_minor": 5
}
